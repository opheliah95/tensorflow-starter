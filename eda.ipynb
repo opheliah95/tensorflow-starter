{
 "cells": [
  {
   "cell_type": "code",
   "execution_count": null,
   "metadata": {},
   "outputs": [],
   "source": [
    "import boto3"
   ]
  },
  {
   "cell_type": "code",
   "execution_count": null,
   "metadata": {},
   "outputs": [],
   "source": [
    "s3 = boto3.resource('s3')\n",
    "\n",
    "for bucket in s3.buckets.all():\n",
    "    print(bucket.name)"
   ]
  },
  {
   "cell_type": "code",
   "execution_count": null,
   "metadata": {},
   "outputs": [],
   "source": [
    "from dotenv import load_dotenv\n",
    "load_dotenv()  # take environment variables from .env.\n",
    "\n",
    "import os # read dotenv values\n",
    "BUCKET_NAME = os.environ.get(\"BUCKET_NAME\")\n",
    "FILE_NAME = os.environ.get(\"CSV_NAME\")\n",
    "print(BUCKET_NAME)\n",
    "print(FILE_NAME)\n",
    "# read the content of data bucket\n",
    "bucket = s3.Bucket(BUCKET_NAME)\n",
    "\n",
    "\n",
    "# list all files in this bucket\n",
    "for obj in bucket.objects.all():\n",
    "    print(obj.key)\n"
   ]
  },
  {
   "cell_type": "code",
   "execution_count": null,
   "metadata": {},
   "outputs": [],
   "source": [
    "# read csv from s3\n",
    "import csv\n",
    "from urllib.parse import urlparse\n",
    "from io import BytesIO\n",
    "import pandas as pd\n",
    "\n",
    "def from_s3(s3_uri:str) -> pd.DataFrame:\n",
    "    client = boto3.client(\"s3\")\n",
    "    parsed_s3 = urlparse(s3_uri)\n",
    "    path= parsed_s3.path[1:]\n",
    "    obj = client.get_object(Bucket=parsed_s3.netloc, Key=path)\n",
    "    csv_in_bytes = BytesIO(obj[\"Body\"].read())\n",
    "    print(obj[\"Body\"])\n",
    "    return pd.read_csv(csv_in_bytes)\n",
    "\n",
    "\n",
    "# read data from s3 bucket\n",
    "data_location = f\"s3://{BUCKET_NAME}/{FILE_NAME}\"\n",
    "df = from_s3 (data_location)\n",
    "\n"
   ]
  },
  {
   "cell_type": "code",
   "execution_count": null,
   "metadata": {},
   "outputs": [],
   "source": [
    "# initial data exploration to test if s3 is working\n",
    "df.head(100)\n"
   ]
  },
  {
   "cell_type": "code",
   "execution_count": null,
   "metadata": {},
   "outputs": [],
   "source": [
    "df.info(show_counts=True)"
   ]
  },
  {
   "cell_type": "code",
   "execution_count": null,
   "metadata": {},
   "outputs": [],
   "source": [
    "df.describe()"
   ]
  },
  {
   "cell_type": "code",
   "execution_count": null,
   "metadata": {},
   "outputs": [],
   "source": [
    "# initial graphing of data\n",
    "import matplotlib.pyplot as plt\n",
    "from matplotlib.pyplot import figure\n",
    "figure(figsize=(20, 10), dpi=80)\n",
    "df.hist()\n",
    "plt.tight_layout()\n",
    "plt.show()"
   ]
  }
 ],
 "metadata": {
  "kernelspec": {
   "display_name": "Python 3.8.10 ('tensorflow-starter-ktE5xTfk')",
   "language": "python",
   "name": "python3"
  },
  "language_info": {
   "codemirror_mode": {
    "name": "ipython",
    "version": 3
   },
   "file_extension": ".py",
   "mimetype": "text/x-python",
   "name": "python",
   "nbconvert_exporter": "python",
   "pygments_lexer": "ipython3",
   "version": "3.8.10"
  },
  "vscode": {
   "interpreter": {
    "hash": "e6e08394f27a7bfa2bb4e7efe66eae91ceaa77b3457ffe42cf775fad798ee67d"
   }
  }
 },
 "nbformat": 4,
 "nbformat_minor": 2
}
